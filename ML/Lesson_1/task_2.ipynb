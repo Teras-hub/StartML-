{
 "cells": [
  {
   "cell_type": "markdown",
   "id": "5627aa6a-9dff-4c11-8e89-f6aa5b7cbea8",
   "metadata": {},
   "source": [
    "Вещественными признаками и таргетами (ответами) называют такие, которые принимают значения исключительно из некоторого установленного множества: например, 0 или 1 - не верно"
   ]
  }
 ],
 "metadata": {
  "kernelspec": {
   "display_name": "Python 3",
   "language": "python",
   "name": "python3"
  },
  "language_info": {
   "codemirror_mode": {
    "name": "ipython",
    "version": 3
   },
   "file_extension": ".py",
   "mimetype": "text/x-python",
   "name": "python",
   "nbconvert_exporter": "python",
   "pygments_lexer": "ipython3",
   "version": "3.12.7"
  }
 },
 "nbformat": 4,
 "nbformat_minor": 5
}
