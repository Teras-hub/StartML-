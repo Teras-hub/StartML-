{
 "cells": [
  {
   "cell_type": "markdown",
   "id": "fabf9d55-e7a3-419d-961e-66a9f857c643",
   "metadata": {},
   "source": [
    "Машинное обучение с учителем подразумевает:\n"
   ]
  },
  {
   "cell_type": "markdown",
   "id": "7b504f30-457d-4def-9eee-d32783e5995d",
   "metadata": {},
   "source": [
    "![Правильный ответ](result.jpg)"
   ]
  },
  {
   "cell_type": "code",
   "execution_count": null,
   "id": "c418b9a4-141c-41f2-95e3-03d4763df84b",
   "metadata": {},
   "outputs": [],
   "source": []
  }
 ],
 "metadata": {
  "kernelspec": {
   "display_name": "Python 3",
   "language": "python",
   "name": "python3"
  },
  "language_info": {
   "codemirror_mode": {
    "name": "ipython",
    "version": 3
   },
   "file_extension": ".py",
   "mimetype": "text/x-python",
   "name": "python",
   "nbconvert_exporter": "python",
   "pygments_lexer": "ipython3",
   "version": "3.12.7"
  }
 },
 "nbformat": 4,
 "nbformat_minor": 5
}
